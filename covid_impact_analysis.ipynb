{
 "cells": [
  {
   "cell_type": "code",
   "execution_count": null,
   "id": "ff746630",
   "metadata": {},
   "outputs": [],
   "source": [
    "# 📘 COVID-19 Economic Impact Analysis (India)\n",
    "\n",
    "import pandas as pd\n",
    "import matplotlib.pyplot as plt\n",
    "import seaborn as sns\n",
    "\n",
    "# Load merged dataset\n",
    "df = pd.read_csv(\"../data/dashboard_data.csv\", parse_dates=['date'])\n",
    "\n",
    "# Preview\n",
    "df.head()\n",
    "\n",
    "\n"
   ]
  },
  {
   "cell_type": "code",
   "execution_count": null,
   "id": "bb5ef881",
   "metadata": {},
   "outputs": [],
   "source": [
    "plt.figure(figsize=(12, 5))\n",
    "sns.lineplot(data=df, x=\"date\", y=\"confirmed\", label=\"Confirmed Cases\")\n",
    "sns.lineplot(data=df, x=\"date\", y=\"unemployment_rate\", label=\"Unemployment Rate\")\n",
    "plt.title(\"Confirmed Cases vs Unemployment Rate Over Time\")\n",
    "plt.xlabel(\"Date\")\n",
    "plt.ylabel(\"Values\")\n",
    "plt.legend()\n",
    "plt.tight_layout()\n",
    "plt.show()\n"
   ]
  },
  {
   "cell_type": "code",
   "execution_count": null,
   "id": "2778ac86",
   "metadata": {},
   "outputs": [],
   "source": [
    "plt.figure(figsize=(8, 6))\n",
    "sns.heatmap(df.corr(), annot=True, cmap=\"coolwarm\")\n",
    "plt.title(\"Correlation Between COVID & Economic Indicators\")\n",
    "plt.show()\n"
   ]
  },
  {
   "cell_type": "code",
   "execution_count": null,
   "id": "641371f9",
   "metadata": {},
   "outputs": [],
   "source": [
    "plt.figure(figsize=(10, 5))\n",
    "sns.lineplot(data=df, x=\"date\", y=\"active\", label=\"Active Cases\")\n",
    "sns.lineplot(data=df, x=\"date\", y=\"gdp_growth\", label=\"GDP Growth\")\n",
    "plt.title(\"Active Cases vs GDP Growth Over Time\")\n",
    "plt.legend()\n",
    "plt.show()\n"
   ]
  },
  {
   "cell_type": "markdown",
   "id": "7d9f349c",
   "metadata": {},
   "source": [
    "### ✅ Key Insights\n",
    "\n",
    "- Unemployment rate tends to rise during COVID waves\n",
    "- Strong negative correlation between active cases and GDP growth\n",
    "- Inflation remained moderately stable during early COVID months\n"
   ]
  }
 ],
 "metadata": {
  "language_info": {
   "name": "python"
  }
 },
 "nbformat": 4,
 "nbformat_minor": 5
}
